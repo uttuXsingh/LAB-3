{
 "cells": [
  {
   "cell_type": "code",
   "execution_count": 1,
   "id": "a92b274d-5320-4365-b85f-92bd0e249a66",
   "metadata": {
    "vscode": {
     "languageId": "r"
    }
   },
   "outputs": [],
   "source": [
    "data(\"Titanic\")\n",
    "titanic_data <- as.data.frame(Titanic)\n"
   ]
  },
  {
   "cell_type": "code",
   "execution_count": 2,
   "id": "7be84a2a-f830-4885-9287-ecb9b6541869",
   "metadata": {
    "vscode": {
     "languageId": "r"
    }
   },
   "outputs": [
    {
     "data": {
      "text/plain": [
       "  Class       Sex        Age     Survived      Freq       \n",
       " 1st :8   Male  :16   Child:16   No :16   Min.   :  0.00  \n",
       " 2nd :8   Female:16   Adult:16   Yes:16   1st Qu.:  0.75  \n",
       " 3rd :8                                   Median : 13.50  \n",
       " Crew:8                                   Mean   : 68.78  \n",
       "                                          3rd Qu.: 77.00  \n",
       "                                          Max.   :670.00  "
      ]
     },
     "metadata": {},
     "output_type": "display_data"
    }
   ],
   "source": [
    "titanic_data$Class <- as.factor(titanic_data$Class)\n",
    "titanic_data$Sex <- as.factor(titanic_data$Sex)\n",
    "titanic_data$Age <- as.factor(titanic_data$Age)\n",
    "titanic_data$Survived <- as.factor(titanic_data$Survived)\n",
    "summary(titanic_data)\n"
   ]
  },
  {
   "cell_type": "code",
   "execution_count": 3,
   "id": "6eed4ace-7145-4308-884c-8b151e1f64a9",
   "metadata": {
    "vscode": {
     "languageId": "r"
    }
   },
   "outputs": [
    {
     "name": "stdout",
     "output_type": "stream",
     "text": [
      "      \n",
      "       Male Female\n",
      "  1st     4      4\n",
      "  2nd     4      4\n",
      "  3rd     4      4\n",
      "  Crew    4      4\n",
      "      \n",
      "       No Yes\n",
      "  1st   4   4\n",
      "  2nd   4   4\n",
      "  3rd   4   4\n",
      "  Crew  4   4\n",
      "       \n",
      "        No Yes\n",
      "  Child  8   8\n",
      "  Adult  8   8\n",
      "        \n",
      "         No Yes\n",
      "  Male    8   8\n",
      "  Female  8   8\n"
     ]
    }
   ],
   "source": [
    "table_class_sex <- table(titanic_data$Class, titanic_data$Sex)\n",
    "table_class_survived <- table(titanic_data$Class, titanic_data$Survived)\n",
    "table_age_survived <- table(titanic_data$Age, titanic_data$Survived)\n",
    "table_sex_survived <- table(titanic_data$Sex, titanic_data$Survived)\n",
    "print(table_class_sex)\n",
    "print(table_class_survived)\n",
    "print(table_age_survived)\n",
    "print(table_sex_survived)\n"
   ]
  },
  {
   "cell_type": "code",
   "execution_count": 4,
   "id": "f54cb19a-3566-4e62-88e1-f13ef68b8612",
   "metadata": {
    "vscode": {
     "languageId": "r"
    }
   },
   "outputs": [
    {
     "name": "stdout",
     "output_type": "stream",
     "text": [
      "      \n",
      "       Male Female\n",
      "  1st     4      4\n",
      "  2nd     4      4\n",
      "  3rd     4      4\n",
      "  Crew    4      4\n",
      "      \n",
      "       No Yes\n",
      "  1st   4   4\n",
      "  2nd   4   4\n",
      "  3rd   4   4\n",
      "  Crew  4   4\n",
      "       \n",
      "        No Yes\n",
      "  Child  8   8\n",
      "  Adult  8   8\n",
      "        \n",
      "         No Yes\n",
      "  Male    8   8\n",
      "  Female  8   8\n"
     ]
    }
   ],
   "source": [
    "table_class_sex <- table(titanic_data$Class, titanic_data$Sex)\n",
    "table_class_survived <- table(titanic_data$Class, titanic_data$Survived)\n",
    "table_age_survived <- table(titanic_data$Age, titanic_data$Survived)\n",
    "table_sex_survived <- table(titanic_data$Sex, titanic_data$Survived)\n",
    "print(table_class_sex)\n",
    "print(table_class_survived)\n",
    "print(table_age_survived)\n",
    "print(table_sex_survived)\n"
   ]
  },
  {
   "cell_type": "code",
   "execution_count": 5,
   "id": "d5ec6491-911f-49d4-b279-29519f2d14a2",
   "metadata": {
    "vscode": {
     "languageId": "r"
    }
   },
   "outputs": [
    {
     "name": "stdout",
     "output_type": "stream",
     "text": [
      ", ,  = No\n",
      "\n",
      "      \n",
      "       Male Female\n",
      "  1st     2      2\n",
      "  2nd     2      2\n",
      "  3rd     2      2\n",
      "  Crew    2      2\n",
      "\n",
      ", ,  = Yes\n",
      "\n",
      "      \n",
      "       Male Female\n",
      "  1st     2      2\n",
      "  2nd     2      2\n",
      "  3rd     2      2\n",
      "  Crew    2      2\n",
      "\n"
     ]
    }
   ],
   "source": [
    "three_way_table <- table(titanic_data$Class, titanic_data$Sex, titanic_data$Survived)\n",
    "print(three_way_table)\n"
   ]
  },
  {
   "cell_type": "code",
   "execution_count": 6,
   "id": "211f0d26-deae-4025-bb49-cf6bb521e57a",
   "metadata": {
    "vscode": {
     "languageId": "r"
    }
   },
   "outputs": [
    {
     "name": "stderr",
     "output_type": "stream",
     "text": [
      "Warning message in chisq.test(table_class_sex):\n",
      "\"Chi-squared approximation may be incorrect\"\n"
     ]
    },
    {
     "name": "stdout",
     "output_type": "stream",
     "text": [
      "      \n",
      "       Male Female\n",
      "  1st   0.5    0.5\n",
      "  2nd   0.5    0.5\n",
      "  3rd   0.5    0.5\n",
      "  Crew  0.5    0.5\n",
      "      \n",
      "       Male Female\n",
      "  1st  0.25   0.25\n",
      "  2nd  0.25   0.25\n",
      "  3rd  0.25   0.25\n",
      "  Crew 0.25   0.25\n",
      "      \n",
      "        Male Female\n",
      "  1st  0.125  0.125\n",
      "  2nd  0.125  0.125\n",
      "  3rd  0.125  0.125\n",
      "  Crew 0.125  0.125\n",
      "\n",
      "\tPearson's Chi-squared test\n",
      "\n",
      "data:  table_class_sex\n",
      "X-squared = 0, df = 3, p-value = 1\n",
      "\n"
     ]
    }
   ],
   "source": [
    "row_profile <- prop.table(table_class_sex, 1)\n",
    "col_profile <- prop.table(table_class_sex, 2)\n",
    "rel_freq <- prop.table(table_class_sex)\n",
    "chi_square_test <- chisq.test(table_class_sex)\n",
    "print(row_profile)\n",
    "print(col_profile)\n",
    "print(rel_freq)\n",
    "print(chi_square_test)\n"
   ]
  },
  {
   "cell_type": "code",
   "execution_count": 9,
   "id": "2ac378ff-4ef1-4b02-ba02-dab792ec8c59",
   "metadata": {
    "vscode": {
     "languageId": "r"
    }
   },
   "outputs": [
    {
     "data": {
      "image/png": "[encoded data removed]",
      "text/plain": [
       "Plot with title \"3D Scatter Plot\""
      ]
     },
     "metadata": {
      "image/png": {
       "height": 420,
       "width": 420
      }
     },
     "output_type": "display_data"
    }
   ],
   "source": [
    "class_numeric <- as.numeric(titanic_data$Class)\n",
    "sex_numeric <- as.numeric(titanic_data$Sex)\n",
    "survived_numeric <- as.numeric(titanic_data$Survived)\n",
    "scatterplot3d(x = class_numeric, y = sex_numeric, z = survived_numeric, color = survived_numeric, pch = 19,\n",
    "              xlab = \"Class\", ylab = \"Sex\", zlab = \"Survived\", main = \"3D Scatter Plot\")\n"
   ]
  },
  {
   "cell_type": "code",
   "execution_count": 10,
   "id": "152095a4-5d9e-4e56-9f49-4e26c9b07181",
   "metadata": {
    "vscode": {
     "languageId": "r"
    }
   },
   "outputs": [
    {
     "data": {
      "image/png": "[encoded data removed]",
      "text/plain": [
       "Plot with title \"3D Scatter Plot with Bars\""
      ]
     },
     "metadata": {
      "image/png": {
       "height": 420,
       "width": 420
      }
     },
     "output_type": "display_data"
    }
   ],
   "source": [
    "scatterplot3d(x = class_numeric, y = sex_numeric, z = survived_numeric, pch = 19, color = survived_numeric,\n",
    "              type = 'h', xlab = \"Class\", ylab = \"Sex\", zlab = \"Survived\", main = \"3D Scatter Plot with Bars\")\n"
   ]
  },
  {
   "cell_type": "code",
   "execution_count": null,
   "id": "7513394e-ba7b-4319-b3e6-a885e9de1068",
   "metadata": {
    "vscode": {
     "languageId": "r"
    }
   },
   "outputs": [],
   "source": [
    "# install.packages(\"rgl\")\n",
    "# library(rgl)\n",
    "open3d()\n",
    "plot3d(class_numeric, sex_numeric, survived_numeric, col = survived_numeric, type = \"s\", size = 1)\n"
   ]
  },
  {
   "cell_type": "code",
   "execution_count": null,
   "id": "903ed535-9a5f-48d4-87f8-d28202b55887",
   "metadata": {
    "vscode": {
     "languageId": "r"
    }
   },
   "outputs": [],
   "source": [
    "ggplot(titanic_data, aes(x = Class, y = Freq, fill = Survived)) +\n",
    "  geom_boxplot() + \n",
    "  labs(title = \"Boxplot of Frequency by Class and Survival Status\")\n"
   ]
  },
  {
   "cell_type": "code",
   "execution_count": null,
   "id": "fa045c81-cfe0-42f6-8dab-58e11373f646",
   "metadata": {
    "vscode": {
     "languageId": "r"
    }
   },
   "outputs": [],
   "source": [
    "# install.packages(\"fmsb\")\n",
    "# library(fmsb)\n",
    "data_radar <- titanic_data[, c(\"Class\", \"Sex\", \"Age\", \"Survived\", \"Freq\")]\n",
    "data_radar$Freq <- as.numeric(scale(data_radar$Freq))\n",
    "radarchart(data_radar)\n"
   ]
  },
  {
   "cell_type": "code",
   "execution_count": null,
   "id": "5ca23a84-880b-4483-9f0e-432472f6184b",
   "metadata": {
    "vscode": {
     "languageId": "r"
    }
   },
   "outputs": [],
   "source": []
  }
 ],
 "metadata": {
  "kernelspec": {
   "display_name": "R",
   "language": "R",
   "name": "ir"
  },
  "language_info": {
   "codemirror_mode": "r",
   "file_extension": ".r",
   "mimetype": "text/x-r-source",
   "name": "R",
   "pygments_lexer": "r",
   "version": "3.6.1"
  }
 },
 "nbformat": 4,
 "nbformat_minor": 5
}
